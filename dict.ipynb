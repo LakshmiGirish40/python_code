{
 "cells": [
  {
   "cell_type": "markdown",
   "id": "46651fe7-a4eb-42df-b00a-3c76d0e84b4e",
   "metadata": {},
   "source": [
    "## Dictionary"
   ]
  },
  {
   "attachments": {},
   "cell_type": "markdown",
   "id": "9eaf67a6-ec2f-4d4e-b1c5-a5d6a0a33fab",
   "metadata": {},
   "source": [
    "### Dictionary = {}= {key:vadic>\n"
   ]
  },
  {
   "cell_type": "markdown",
   "id": "f6b79553-d8f1-4631-8289-380be6daa80a",
   "metadata": {},
   "source": [
    "#### A python dictionary is a collection of key and value pairs separated by a colon (:) & enclosed\n"
   ]
  },
  {
   "cell_type": "markdown",
   "id": "e865587c-39e1-41f7-a554-19c7a56c68f7",
   "metadata": {},
   "source": [
    "##### in curly braces {}.\n"
   ]
  },
  {
   "cell_type": "markdown",
   "id": "71d7f072-cf07-4d2e-8b67-90d2be9a1d3d",
   "metadata": {},
   "source": [
    "##### Keys must be unique in a dictionary, duplicate values are allowed"
   ]
  },
  {
   "cell_type": "markdown",
   "id": "b27780bc-627e-48a4-8249-8616b3ff9cb2",
   "metadata": {},
   "source": [
    "### Create Dictionary"
   ]
  },
  {
   "cell_type": "code",
   "execution_count": 20,
   "id": "3e79fae6-8035-4e12-8ba7-42e3eccd4528",
   "metadata": {},
   "outputs": [],
   "source": [
    "dict = {'one':1,'two':2,'three':3,'four':4,'five':5,'six':6}"
   ]
  },
  {
   "cell_type": "code",
   "execution_count": 23,
   "id": "e562601a-d46b-44e8-bfac-5cb1a363333a",
   "metadata": {},
   "outputs": [
    {
     "data": {
      "text/plain": [
       "{'one': 1, 'two': 2, 'three': 3, 'four': 4, 'five': 5, 'six': 6}"
      ]
     },
     "execution_count": 23,
     "metadata": {},
     "output_type": "execute_result"
    }
   ],
   "source": [
    "dict"
   ]
  },
  {
   "cell_type": "code",
   "execution_count": 25,
   "id": "63d4b0c5-deea-41fa-bf07-1e5ef72a8093",
   "metadata": {},
   "outputs": [
    {
     "data": {
      "text/plain": [
       "1"
      ]
     },
     "execution_count": 25,
     "metadata": {},
     "output_type": "execute_result"
    }
   ],
   "source": [
    "dict.get('one')"
   ]
  },
  {
   "cell_type": "code",
   "execution_count": 27,
   "id": "af3e4d51-c938-47b4-9287-08773dbec7d9",
   "metadata": {},
   "outputs": [
    {
     "data": {
      "text/plain": [
       "dict_keys(['one', 'two', 'three', 'four', 'five', 'six'])"
      ]
     },
     "execution_count": 27,
     "metadata": {},
     "output_type": "execute_result"
    }
   ],
   "source": [
    "dict.keys()  #Get all the Keys"
   ]
  },
  {
   "cell_type": "code",
   "execution_count": 29,
   "id": "30a51193-80ba-490f-b16f-03364bb13862",
   "metadata": {},
   "outputs": [
    {
     "data": {
      "text/plain": [
       "dict_values([1, 2, 3, 4, 5, 6])"
      ]
     },
     "execution_count": 29,
     "metadata": {},
     "output_type": "execute_result"
    }
   ],
   "source": [
    "dict.values()"
   ]
  },
  {
   "cell_type": "code",
   "execution_count": 35,
   "id": "ea9797a4-50ac-4e9c-bc75-373554c6c366",
   "metadata": {},
   "outputs": [
    {
     "data": {
      "text/plain": [
       "4"
      ]
     },
     "execution_count": 35,
     "metadata": {},
     "output_type": "execute_result"
    }
   ],
   "source": [
    "dict.get('four') "
   ]
  },
  {
   "cell_type": "code",
   "execution_count": 45,
   "id": "ec910dc4-337d-4764-a647-4cd426399ff4",
   "metadata": {},
   "outputs": [
    {
     "data": {
      "text/plain": [
       "dict_items([('one', 1), ('two', 2), ('three', 3), ('four', 4), ('five', 5), ('six', 6)])"
      ]
     },
     "execution_count": 45,
     "metadata": {},
     "output_type": "execute_result"
    }
   ],
   "source": [
    "dict.items() #Accesss each key and value pair within a dictionary"
   ]
  },
  {
   "cell_type": "markdown",
   "id": "1990b21d-667f-4379-befa-6c7691f8c7f1",
   "metadata": {},
   "source": [
    "### Dictionary with List"
   ]
  },
  {
   "cell_type": "code",
   "execution_count": 49,
   "id": "e1ee0dbd-e863-4fad-bb6f-1b6b0c06b27a",
   "metadata": {},
   "outputs": [],
   "source": [
    "dict1 = {'name':'Lakshmi','age':35,'Location':'Bangalore','B':[1,2,3,4]} #Dictionary with List"
   ]
  },
  {
   "cell_type": "code",
   "execution_count": 51,
   "id": "8b54daf3-25cd-48ac-a787-d1d752468e9e",
   "metadata": {},
   "outputs": [
    {
     "data": {
      "text/plain": [
       "{'name': 'Lakshmi', 'age': 35, 'Location': 'Bangalore', 'B': [1, 2, 3, 4]}"
      ]
     },
     "execution_count": 51,
     "metadata": {},
     "output_type": "execute_result"
    }
   ],
   "source": [
    "dict1"
   ]
  },
  {
   "cell_type": "markdown",
   "id": "e9577aec-1c01-492e-9ba4-de4d9923a438",
   "metadata": {},
   "source": [
    "#### Create a dictionary from a sequence of keys and value"
   ]
  },
  {
   "cell_type": "code",
   "execution_count": 75,
   "id": "4c82592c-5ef7-46ed-b50e-f119af5a0e4c",
   "metadata": {},
   "outputs": [
    {
     "data": {
      "text/plain": [
       "{'b': None, 'a': None, 'c': None, 'd': None}"
      ]
     },
     "execution_count": 75,
     "metadata": {},
     "output_type": "execute_result"
    }
   ],
   "source": [
    "keys = {'a','b','c','d'}\n",
    "dict2 = dict1.fromkeys(keys)\n",
    "dict2"
   ]
  },
  {
   "cell_type": "code",
   "execution_count": 57,
   "id": "8abcbf41-859d-4bc2-afe9-aba18f365117",
   "metadata": {},
   "outputs": [
    {
     "data": {
      "text/plain": [
       "{'b': None, 'a': None, 'c': None, 'd': None}"
      ]
     },
     "execution_count": 57,
     "metadata": {},
     "output_type": "execute_result"
    }
   ],
   "source": [
    "dict2"
   ]
  },
  {
   "cell_type": "code",
   "execution_count": 87,
   "id": "ac3427d6-897a-4b65-b44b-b9d7a647039f",
   "metadata": {},
   "outputs": [],
   "source": [
    "keys = {'a','b','c','d'}\n",
    "value = 20\n",
    "dict2 = dict.fromkeys(keys,value)"
   ]
  },
  {
   "cell_type": "code",
   "execution_count": 83,
   "id": "b852ab73-3b0f-432b-98a8-bcbaaaac0e7d",
   "metadata": {},
   "outputs": [
    {
     "data": {
      "text/plain": [
       "{'b': 20, 'a': 20, 'c': 20, 'd': 20}"
      ]
     },
     "execution_count": 83,
     "metadata": {},
     "output_type": "execute_result"
    }
   ],
   "source": [
    "dict2"
   ]
  },
  {
   "cell_type": "code",
   "execution_count": 116,
   "id": "287bf5fc-6b83-4bf3-8111-1d75f3268214",
   "metadata": {},
   "outputs": [],
   "source": [
    "keys = {'a','b','c','d'}\n",
    "value = [20,30,40]\n",
    "dict2 = dict.fromkeys(keys,value)\n",
    "value.append(50)                   #List will apend the values"
   ]
  },
  {
   "cell_type": "code",
   "execution_count": 118,
   "id": "7deb5cef-10d4-4854-8186-dc11b2d7b51b",
   "metadata": {},
   "outputs": [
    {
     "data": {
      "text/plain": [
       "{'b': [20, 30, 40, 50],\n",
       " 'a': [20, 30, 40, 50],\n",
       " 'c': [20, 30, 40, 50],\n",
       " 'd': [20, 30, 40, 50]}"
      ]
     },
     "execution_count": 118,
     "metadata": {},
     "output_type": "execute_result"
    }
   ],
   "source": [
    "\n",
    "dict2"
   ]
  },
  {
   "cell_type": "code",
   "execution_count": 122,
   "id": "d0064501-a081-492e-bd3d-794045c9c1b4",
   "metadata": {},
   "outputs": [],
   "source": [
    "keys = {'a','b','c','d'}\n",
    "value = {20,30,40}\n",
    "dict3 = dict.fromkeys(keys,value)"
   ]
  },
  {
   "cell_type": "code",
   "execution_count": 100,
   "id": "2a50b974-132d-46d8-ad2b-b705df39388e",
   "metadata": {},
   "outputs": [
    {
     "data": {
      "text/plain": [
       "{'b': {20, 30, 40}, 'a': {20, 30, 40}, 'c': {20, 30, 40}, 'd': {20, 30, 40}}"
      ]
     },
     "execution_count": 100,
     "metadata": {},
     "output_type": "execute_result"
    }
   ],
   "source": [
    "dict3"
   ]
  },
  {
   "cell_type": "code",
   "execution_count": 124,
   "id": "e1ae7b47-bf7d-460b-babd-d0711031a545",
   "metadata": {},
   "outputs": [
    {
     "data": {
      "text/plain": [
       "{'one': 1, 'two': 2, 'three': 3, 'four': 4, 'five': 5, 'six': 6}"
      ]
     },
     "execution_count": 124,
     "metadata": {},
     "output_type": "execute_result"
    }
   ],
   "source": [
    "dict"
   ]
  },
  {
   "cell_type": "code",
   "execution_count": 128,
   "id": "ac906633-cf6f-4997-8e85-baf839231907",
   "metadata": {},
   "outputs": [
    {
     "data": {
      "text/plain": [
       "('six', 6)"
      ]
     },
     "execution_count": 128,
     "metadata": {},
     "output_type": "execute_result"
    }
   ],
   "source": [
    "dict.popitem()  #Removes two item from the dictionary"
   ]
  },
  {
   "cell_type": "code",
   "execution_count": 134,
   "id": "89675d25-2238-4bbb-a3a3-0db6dd67c301",
   "metadata": {},
   "outputs": [],
   "source": [
    "dict4 = dict3.copy()"
   ]
  },
  {
   "cell_type": "code",
   "execution_count": 136,
   "id": "15be4cd9-e6ce-4447-9ead-151e95433ea9",
   "metadata": {},
   "outputs": [
    {
     "data": {
      "text/plain": [
       "{'b': {20, 30, 40}, 'a': {20, 30, 40}, 'c': {20, 30, 40}, 'd': {20, 30, 40}}"
      ]
     },
     "execution_count": 136,
     "metadata": {},
     "output_type": "execute_result"
    }
   ],
   "source": [
    "dict4"
   ]
  },
  {
   "cell_type": "markdown",
   "id": "2ab6db24-1501-45c7-bc01-606324b83f52",
   "metadata": {},
   "source": [
    "#### for Loop through dictionary to access key and values"
   ]
  },
  {
   "cell_type": "code",
   "execution_count": 154,
   "id": "d2f3809b-8667-4136-86a2-d088829ccd68",
   "metadata": {},
   "outputs": [
    {
     "name": "stdout",
     "output_type": "stream",
     "text": [
      "b : {40, 20, 30}\n",
      "a : {40, 20, 30}\n",
      "c : {40, 20, 30}\n",
      "d : {40, 20, 30}\n"
     ]
    }
   ],
   "source": [
    "for i in dict4:\n",
    "    print(i,':',dict4[i])"
   ]
  },
  {
   "cell_type": "code",
   "execution_count": 157,
   "id": "3277f19a-adb9-45ae-8c3c-10c183335f50",
   "metadata": {},
   "outputs": [
    {
     "data": {
      "text/plain": [
       "False"
      ]
     },
     "execution_count": 157,
     "metadata": {},
     "output_type": "execute_result"
    }
   ],
   "source": [
    "10 in dic4"
   ]
  },
  {
   "cell_type": "code",
   "execution_count": 169,
   "id": "c40f3440-4c97-49f7-9717-a429edfc2650",
   "metadata": {},
   "outputs": [
    {
     "data": {
      "text/plain": [
       "True"
      ]
     },
     "execution_count": 169,
     "metadata": {},
     "output_type": "execute_result"
    }
   ],
   "source": [
    "'a' in dict4 # Test if a key is in a dictionary or not."
   ]
  },
  {
   "cell_type": "markdown",
   "id": "5272135e-b05a-4ced-b489-43bd7af61114",
   "metadata": {},
   "source": [
    "#### ALL /Any"
   ]
  },
  {
   "cell_type": "markdown",
   "id": "4743edcd-241d-4fc3-8060-7049d05f57dd",
   "metadata": {},
   "source": [
    "##### All()  method returns:"
   ]
  },
  {
   "cell_type": "markdown",
   "id": "3fcfc5e6-4606-498e-b711-126327f6a615",
   "metadata": {},
   "source": [
    "##### True:If all the keys in dictionary are true"
   ]
  },
  {
   "cell_type": "markdown",
   "id": "476b3733-4888-490a-afad-6424ee6d35c2",
   "metadata": {},
   "source": [
    "##### False: If any key of the dictionary is false"
   ]
  },
  {
   "cell_type": "markdown",
   "id": "c9cb72b3-e0ae-47d1-9ad8-f0826c1dca64",
   "metadata": {},
   "source": [
    "##### The any() function returns True if any key of the dictionary is True. If not, any() returns False."
   ]
  },
  {
   "cell_type": "code",
   "execution_count": 182,
   "id": "94d5acc5-226f-435e-997f-b32e5d7c088a",
   "metadata": {},
   "outputs": [
    {
     "data": {
      "text/plain": [
       "True"
      ]
     },
     "execution_count": 182,
     "metadata": {},
     "output_type": "execute_result"
    }
   ],
   "source": [
    "all(dict4)"
   ]
  },
  {
   "cell_type": "code",
   "execution_count": 184,
   "id": "6b6e8690-926a-4517-af38-29f6df32e47c",
   "metadata": {},
   "outputs": [
    {
     "data": {
      "text/plain": [
       "True"
      ]
     },
     "execution_count": 184,
     "metadata": {},
     "output_type": "execute_result"
    }
   ],
   "source": [
    "any(dict4)"
   ]
  },
  {
   "cell_type": "code",
   "execution_count": 194,
   "id": "5411962e-0e7a-4556-b3cc-fb913251e760",
   "metadata": {},
   "outputs": [
    {
     "data": {
      "text/plain": [
       "True"
      ]
     },
     "execution_count": 194,
     "metadata": {},
     "output_type": "execute_result"
    }
   ],
   "source": [
    "all(dict3)"
   ]
  },
  {
   "cell_type": "code",
   "execution_count": null,
   "id": "d0a12b90-a53a-4a88-838c-535e4fbaa950",
   "metadata": {},
   "outputs": [],
   "source": []
  }
 ],
 "metadata": {
  "kernelspec": {
   "display_name": "Python 3 (ipykernel)",
   "language": "python",
   "name": "python3"
  },
  "language_info": {
   "codemirror_mode": {
    "name": "ipython",
    "version": 3
   },
   "file_extension": ".py",
   "mimetype": "text/x-python",
   "name": "python",
   "nbconvert_exporter": "python",
   "pygments_lexer": "ipython3",
   "version": "3.12.4"
  }
 },
 "nbformat": 4,
 "nbformat_minor": 5
}
